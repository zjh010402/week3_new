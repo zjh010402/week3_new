{
 "cells": [
  {
   "cell_type": "code",
   "execution_count": null,
   "id": "fa60deb7",
   "metadata": {},
   "outputs": [
    {
     "name": "stdout",
     "output_type": "stream",
     "text": [
      " * Serving Flask app '__main__'\n",
      " * Debug mode: off\n"
     ]
    },
    {
     "name": "stderr",
     "output_type": "stream",
     "text": [
      "WARNING: This is a development server. Do not use it in a production deployment. Use a production WSGI server instead.\n",
      " * Running on http://127.0.0.1:5000\n",
      "Press CTRL+C to quit\n",
      "127.0.0.1 - - [15/Mar/2024 20:31:32] \"GET / HTTP/1.1\" 200 -\n",
      "127.0.0.1 - - [15/Mar/2024 20:31:35] \"POST /main HTTP/1.1\" 200 -\n",
      "127.0.0.1 - - [15/Mar/2024 20:31:36] \"POST /query HTTP/1.1\" 200 -\n"
     ]
    },
    {
     "name": "stdout",
     "output_type": "stream",
     "text": [
      "('aa', '2024-03-15 20:08:24.512292')<br>('Teoh TeikToe', '2024-03-15 20:18:47.271153')<br>('Teoh TeikToe', '2024-03-15 20:26:38.396282')<br>('Teoh TeikToe', '2024-03-15 20:31:35.043556')<br>\n"
     ]
    }
   ],
   "source": [
    "from flask import Flask, request, render_template\n",
    "import datetime\n",
    "import sqlite3\n",
    "from flask import Markup\n",
    "\n",
    "app = Flask(__name__)\n",
    "\n",
    "name_flag = 0\n",
    "name=\"\"\n",
    "\n",
    "@app.route(\"/\",methods=[\"GET\",\"POST\"])\n",
    "def index():\n",
    "    return(render_template(\"index.html\"))\n",
    "\n",
    "@app.route(\"/main\",methods=[\"GET\",\"POST\"])\n",
    "def main():\n",
    "    global name_flag,name\n",
    "    if name_flag==0:\n",
    "        name = request.form.get(\"name\")\n",
    "        name_flag=1\n",
    "        conn = sqlite3.connect(\"log.db\")\n",
    "        c = conn.cursor()\n",
    "        timestamp = datetime.datetime.now()\n",
    "        c.execute(\"insert into employee (name,timestamp) values(?,?)\",(name,timestamp))\n",
    "        conn.commit()\n",
    "        c.close()\n",
    "        conn.close()\n",
    "    return(render_template(\"main.html\",name=name))\n",
    "\n",
    "@app.route(\"/ethical_test\",methods=[\"GET\",\"POST\"])\n",
    "def ethical_test():   \n",
    "    return(render_template(\"ethical_test.html\"))\n",
    "\n",
    "@app.route(\"/query\",methods=[\"GET\",\"POST\"])\n",
    "def query():\n",
    "    conn = sqlite3.connect(\"log.db\")\n",
    "    c = conn.execute(\"select * from employee\")\n",
    "    r=\"\"\n",
    "    for row in c:\n",
    "        r=r+str(row)+\"<br>\"\n",
    "    print(r)\n",
    "    r = Markup(r)\n",
    "    c.close()\n",
    "    conn.close()\n",
    "    return(render_template(\"query.html\",r=r))\n",
    "\n",
    "@app.route(\"/answer\",methods=[\"GET\",\"POST\"])\n",
    "def answer():\n",
    "    ans = request.form[\"options\"]\n",
    "    print(ans)\n",
    "    if ans == \"true\":\n",
    "        return(render_template(\"wrong.html\"))\n",
    "    else:\n",
    "        return(render_template(\"correct.html\"))\n",
    "\n",
    "@app.route(\"/end\",methods=[\"GET\",\"POST\"])\n",
    "def end():  \n",
    "    return(render_template(\"end.html\"))\n",
    "\n",
    "if __name__ == \"__main__\":\n",
    "    app.run()"
   ]
  },
  {
   "cell_type": "code",
   "execution_count": null,
   "id": "e4e7c510",
   "metadata": {},
   "outputs": [],
   "source": []
  }
 ],
 "metadata": {
  "kernelspec": {
   "display_name": "Python 3 (ipykernel)",
   "language": "python",
   "name": "python3"
  },
  "language_info": {
   "codemirror_mode": {
    "name": "ipython",
    "version": 3
   },
   "file_extension": ".py",
   "mimetype": "text/x-python",
   "name": "python",
   "nbconvert_exporter": "python",
   "pygments_lexer": "ipython3",
   "version": "3.11.4"
  }
 },
 "nbformat": 4,
 "nbformat_minor": 5
}
